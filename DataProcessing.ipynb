{
 "cells": [
  {
   "cell_type": "code",
   "execution_count": 10,
   "metadata": {},
   "outputs": [],
   "source": [
    "import matplotlib.pyplot as plt\n",
    "import pandas as pd\n",
    "import os"
   ]
  },
  {
   "cell_type": "code",
   "execution_count": 15,
   "metadata": {},
   "outputs": [
    {
     "name": "stdout",
     "output_type": "stream",
     "text": [
      "Defaulting to user installation because normal site-packages is not writeable\n",
      "\u001b[33mWARNING: Ignoring invalid distribution -umpy (/home/rohinsood/.local/lib/python3.10/site-packages)\u001b[0m\u001b[33m\n",
      "\u001b[0m\u001b[33mWARNING: Ignoring invalid distribution -umpy (/home/rohinsood/.local/lib/python3.10/site-packages)\u001b[0m\u001b[33m\n",
      "\u001b[0mRequirement already satisfied: numpy in /home/rohinsood/.local/lib/python3.10/site-packages (1.26.4)\n",
      "Collecting librosa\n",
      "  Downloading librosa-0.11.0-py3-none-any.whl.metadata (8.7 kB)\n",
      "Requirement already satisfied: matplotlib in /home/rohinsood/.local/lib/python3.10/site-packages (3.8.3)\n",
      "Requirement already satisfied: scikit-learn in /home/rohinsood/.local/lib/python3.10/site-packages (1.4.2)\n",
      "Requirement already satisfied: tensorflow in /home/rohinsood/.local/lib/python3.10/site-packages (2.16.1)\n",
      "Requirement already satisfied: torch in /home/rohinsood/.local/lib/python3.10/site-packages (2.4.0)\n",
      "Collecting torchaudio\n",
      "  Downloading torchaudio-2.6.0-cp310-cp310-manylinux1_x86_64.whl.metadata (6.6 kB)\n",
      "Collecting audioread>=2.1.9 (from librosa)\n",
      "  Downloading audioread-3.0.1-py3-none-any.whl.metadata (8.4 kB)\n",
      "Requirement already satisfied: numba>=0.51.0 in /home/rohinsood/.local/lib/python3.10/site-packages (from librosa) (0.60.0)\n",
      "Requirement already satisfied: scipy>=1.6.0 in /home/rohinsood/.local/lib/python3.10/site-packages (from librosa) (1.13.0)\n",
      "Requirement already satisfied: joblib>=1.0 in /home/rohinsood/.local/lib/python3.10/site-packages (from librosa) (1.4.0)\n",
      "Requirement already satisfied: decorator>=4.3.0 in /home/rohinsood/.local/lib/python3.10/site-packages (from librosa) (5.1.1)\n",
      "Collecting soundfile>=0.12.1 (from librosa)\n",
      "  Downloading soundfile-0.13.1-py2.py3-none-manylinux_2_28_x86_64.whl.metadata (16 kB)\n",
      "Collecting pooch>=1.1 (from librosa)\n",
      "  Downloading pooch-1.8.2-py3-none-any.whl.metadata (10 kB)\n",
      "Collecting soxr>=0.3.2 (from librosa)\n",
      "  Downloading soxr-0.5.0.post1-cp310-cp310-manylinux_2_17_x86_64.manylinux2014_x86_64.whl.metadata (5.6 kB)\n",
      "Requirement already satisfied: typing_extensions>=4.1.1 in /home/rohinsood/.local/lib/python3.10/site-packages (from librosa) (4.11.0)\n",
      "Collecting lazy_loader>=0.1 (from librosa)\n",
      "  Downloading lazy_loader-0.4-py3-none-any.whl.metadata (7.6 kB)\n",
      "Requirement already satisfied: msgpack>=1.0 in /home/rohinsood/.local/lib/python3.10/site-packages (from librosa) (1.0.8)\n",
      "Requirement already satisfied: contourpy>=1.0.1 in /home/rohinsood/.local/lib/python3.10/site-packages (from matplotlib) (1.2.1)\n",
      "Requirement already satisfied: cycler>=0.10 in /home/rohinsood/.local/lib/python3.10/site-packages (from matplotlib) (0.12.1)\n",
      "Requirement already satisfied: fonttools>=4.22.0 in /home/rohinsood/.local/lib/python3.10/site-packages (from matplotlib) (4.50.0)\n",
      "Requirement already satisfied: kiwisolver>=1.3.1 in /home/rohinsood/.local/lib/python3.10/site-packages (from matplotlib) (1.4.5)\n",
      "Requirement already satisfied: packaging>=20.0 in /home/rohinsood/.local/lib/python3.10/site-packages (from matplotlib) (23.1)\n",
      "Requirement already satisfied: pillow>=8 in /home/rohinsood/.local/lib/python3.10/site-packages (from matplotlib) (10.3.0)\n",
      "Requirement already satisfied: pyparsing>=2.3.1 in /home/rohinsood/.local/lib/python3.10/site-packages (from matplotlib) (3.1.2)\n",
      "Requirement already satisfied: python-dateutil>=2.7 in /home/rohinsood/.local/lib/python3.10/site-packages (from matplotlib) (2.8.2)\n",
      "Requirement already satisfied: threadpoolctl>=2.0.0 in /home/rohinsood/.local/lib/python3.10/site-packages (from scikit-learn) (3.4.0)\n",
      "Requirement already satisfied: absl-py>=1.0.0 in /home/rohinsood/.local/lib/python3.10/site-packages (from tensorflow) (1.4.0)\n",
      "Requirement already satisfied: astunparse>=1.6.0 in /home/rohinsood/.local/lib/python3.10/site-packages (from tensorflow) (1.6.3)\n",
      "Requirement already satisfied: flatbuffers>=23.5.26 in /home/rohinsood/.local/lib/python3.10/site-packages (from tensorflow) (24.3.25)\n",
      "Requirement already satisfied: gast!=0.5.0,!=0.5.1,!=0.5.2,>=0.2.1 in /home/rohinsood/.local/lib/python3.10/site-packages (from tensorflow) (0.5.4)\n",
      "Requirement already satisfied: google-pasta>=0.1.1 in /home/rohinsood/.local/lib/python3.10/site-packages (from tensorflow) (0.2.0)\n",
      "Requirement already satisfied: h5py>=3.10.0 in /home/rohinsood/.local/lib/python3.10/site-packages (from tensorflow) (3.11.0)\n",
      "Requirement already satisfied: libclang>=13.0.0 in /home/rohinsood/.local/lib/python3.10/site-packages (from tensorflow) (18.1.1)\n",
      "Requirement already satisfied: ml-dtypes~=0.3.1 in /home/rohinsood/.local/lib/python3.10/site-packages (from tensorflow) (0.3.2)\n",
      "Requirement already satisfied: opt-einsum>=2.3.2 in /home/rohinsood/.local/lib/python3.10/site-packages (from tensorflow) (3.3.0)\n",
      "Requirement already satisfied: protobuf!=4.21.0,!=4.21.1,!=4.21.2,!=4.21.3,!=4.21.4,!=4.21.5,<5.0.0dev,>=3.20.3 in /home/rohinsood/.local/lib/python3.10/site-packages (from tensorflow) (3.20.3)\n",
      "Requirement already satisfied: requests<3,>=2.21.0 in /home/rohinsood/.local/lib/python3.10/site-packages (from tensorflow) (2.31.0)\n",
      "Requirement already satisfied: setuptools in /usr/lib/python3/dist-packages (from tensorflow) (59.6.0)\n",
      "Requirement already satisfied: six>=1.12.0 in /usr/lib/python3/dist-packages (from tensorflow) (1.16.0)\n",
      "Requirement already satisfied: termcolor>=1.1.0 in /home/rohinsood/.local/lib/python3.10/site-packages (from tensorflow) (2.4.0)\n",
      "Requirement already satisfied: wrapt>=1.11.0 in /home/rohinsood/.local/lib/python3.10/site-packages (from tensorflow) (1.16.0)\n",
      "Requirement already satisfied: grpcio<2.0,>=1.24.3 in /home/rohinsood/.local/lib/python3.10/site-packages (from tensorflow) (1.62.2)\n",
      "Requirement already satisfied: tensorboard<2.17,>=2.16 in /home/rohinsood/.local/lib/python3.10/site-packages (from tensorflow) (2.16.2)\n",
      "Requirement already satisfied: keras>=3.0.0 in /home/rohinsood/.local/lib/python3.10/site-packages (from tensorflow) (3.2.1)\n",
      "Requirement already satisfied: tensorflow-io-gcs-filesystem>=0.23.1 in /home/rohinsood/.local/lib/python3.10/site-packages (from tensorflow) (0.36.0)\n",
      "Requirement already satisfied: filelock in /home/rohinsood/.local/lib/python3.10/site-packages (from torch) (3.15.4)\n",
      "Requirement already satisfied: sympy in /home/rohinsood/.local/lib/python3.10/site-packages (from torch) (1.13.1)\n",
      "Requirement already satisfied: networkx in /home/rohinsood/.local/lib/python3.10/site-packages (from torch) (3.3)\n",
      "Requirement already satisfied: jinja2 in /home/rohinsood/.local/lib/python3.10/site-packages (from torch) (3.1.4)\n",
      "Requirement already satisfied: fsspec in /home/rohinsood/.local/lib/python3.10/site-packages (from torch) (2024.3.1)\n",
      "Requirement already satisfied: nvidia-cuda-nvrtc-cu12==12.1.105 in /home/rohinsood/.local/lib/python3.10/site-packages (from torch) (12.1.105)\n",
      "Requirement already satisfied: nvidia-cuda-runtime-cu12==12.1.105 in /home/rohinsood/.local/lib/python3.10/site-packages (from torch) (12.1.105)\n",
      "Requirement already satisfied: nvidia-cuda-cupti-cu12==12.1.105 in /home/rohinsood/.local/lib/python3.10/site-packages (from torch) (12.1.105)\n",
      "Requirement already satisfied: nvidia-cudnn-cu12==9.1.0.70 in /home/rohinsood/.local/lib/python3.10/site-packages (from torch) (9.1.0.70)\n",
      "Requirement already satisfied: nvidia-cublas-cu12==12.1.3.1 in /home/rohinsood/.local/lib/python3.10/site-packages (from torch) (12.1.3.1)\n",
      "Requirement already satisfied: nvidia-cufft-cu12==11.0.2.54 in /home/rohinsood/.local/lib/python3.10/site-packages (from torch) (11.0.2.54)\n",
      "Requirement already satisfied: nvidia-curand-cu12==10.3.2.106 in /home/rohinsood/.local/lib/python3.10/site-packages (from torch) (10.3.2.106)\n",
      "Requirement already satisfied: nvidia-cusolver-cu12==11.4.5.107 in /home/rohinsood/.local/lib/python3.10/site-packages (from torch) (11.4.5.107)\n",
      "Requirement already satisfied: nvidia-cusparse-cu12==12.1.0.106 in /home/rohinsood/.local/lib/python3.10/site-packages (from torch) (12.1.0.106)\n",
      "Requirement already satisfied: nvidia-nccl-cu12==2.20.5 in /home/rohinsood/.local/lib/python3.10/site-packages (from torch) (2.20.5)\n",
      "Requirement already satisfied: nvidia-nvtx-cu12==12.1.105 in /home/rohinsood/.local/lib/python3.10/site-packages (from torch) (12.1.105)\n",
      "Requirement already satisfied: triton==3.0.0 in /home/rohinsood/.local/lib/python3.10/site-packages (from torch) (3.0.0)\n",
      "Requirement already satisfied: nvidia-nvjitlink-cu12 in /home/rohinsood/.local/lib/python3.10/site-packages (from nvidia-cusolver-cu12==11.4.5.107->torch) (12.5.82)\n",
      "Collecting torch\n",
      "  Downloading torch-2.6.0-cp310-cp310-manylinux1_x86_64.whl.metadata (28 kB)\n",
      "Collecting nvidia-cuda-nvrtc-cu12==12.4.127 (from torch)\n",
      "  Downloading nvidia_cuda_nvrtc_cu12-12.4.127-py3-none-manylinux2014_x86_64.whl.metadata (1.5 kB)\n",
      "Collecting nvidia-cuda-runtime-cu12==12.4.127 (from torch)\n",
      "  Downloading nvidia_cuda_runtime_cu12-12.4.127-py3-none-manylinux2014_x86_64.whl.metadata (1.5 kB)\n",
      "Collecting nvidia-cuda-cupti-cu12==12.4.127 (from torch)\n",
      "  Downloading nvidia_cuda_cupti_cu12-12.4.127-py3-none-manylinux2014_x86_64.whl.metadata (1.6 kB)\n",
      "Collecting nvidia-cublas-cu12 (from nvidia-cudnn-cu12==9.1.0.70->torch)\n",
      "  Downloading nvidia_cublas_cu12-12.4.5.8-py3-none-manylinux2014_x86_64.whl.metadata (1.5 kB)\n",
      "Collecting nvidia-cufft-cu12==11.2.1.3 (from torch)\n",
      "  Downloading nvidia_cufft_cu12-11.2.1.3-py3-none-manylinux2014_x86_64.whl.metadata (1.5 kB)\n",
      "Collecting nvidia-curand-cu12==10.3.5.147 (from torch)\n",
      "  Downloading nvidia_curand_cu12-10.3.5.147-py3-none-manylinux2014_x86_64.whl.metadata (1.5 kB)\n",
      "Collecting nvidia-cusolver-cu12==11.6.1.9 (from torch)\n",
      "  Downloading nvidia_cusolver_cu12-11.6.1.9-py3-none-manylinux2014_x86_64.whl.metadata (1.6 kB)\n",
      "Collecting nvidia-cusparse-cu12 (from nvidia-cusolver-cu12==11.4.5.107->torch)\n",
      "  Downloading nvidia_cusparse_cu12-12.3.1.170-py3-none-manylinux2014_x86_64.whl.metadata (1.6 kB)\n",
      "Collecting nvidia-cusparselt-cu12==0.6.2 (from torch)\n",
      "  Downloading nvidia_cusparselt_cu12-0.6.2-py3-none-manylinux2014_x86_64.whl.metadata (6.8 kB)\n",
      "Collecting nvidia-nccl-cu12==2.21.5 (from torch)\n",
      "  Downloading nvidia_nccl_cu12-2.21.5-py3-none-manylinux2014_x86_64.whl.metadata (1.8 kB)\n",
      "Collecting nvidia-nvtx-cu12==12.4.127 (from torch)\n",
      "  Downloading nvidia_nvtx_cu12-12.4.127-py3-none-manylinux2014_x86_64.whl.metadata (1.7 kB)\n",
      "Collecting nvidia-nvjitlink-cu12 (from nvidia-cusolver-cu12==11.4.5.107->torch)\n",
      "  Downloading nvidia_nvjitlink_cu12-12.4.127-py3-none-manylinux2014_x86_64.whl.metadata (1.5 kB)\n",
      "Collecting triton==3.2.0 (from torch)\n",
      "  Downloading triton-3.2.0-cp310-cp310-manylinux_2_17_x86_64.manylinux2014_x86_64.whl.metadata (1.4 kB)\n",
      "Requirement already satisfied: mpmath<1.4,>=1.1.0 in /home/rohinsood/.local/lib/python3.10/site-packages (from sympy->torch) (1.3.0)\n",
      "Requirement already satisfied: wheel<1.0,>=0.23.0 in /usr/lib/python3/dist-packages (from astunparse>=1.6.0->tensorflow) (0.37.1)\n",
      "Requirement already satisfied: rich in /home/rohinsood/.local/lib/python3.10/site-packages (from keras>=3.0.0->tensorflow) (13.7.1)\n",
      "Requirement already satisfied: namex in /home/rohinsood/.local/lib/python3.10/site-packages (from keras>=3.0.0->tensorflow) (0.0.8)\n",
      "Requirement already satisfied: optree in /home/rohinsood/.local/lib/python3.10/site-packages (from keras>=3.0.0->tensorflow) (0.11.0)\n",
      "Requirement already satisfied: llvmlite<0.44,>=0.43.0dev0 in /home/rohinsood/.local/lib/python3.10/site-packages (from numba>=0.51.0->librosa) (0.43.0)\n",
      "Requirement already satisfied: platformdirs>=2.5.0 in /home/rohinsood/.local/lib/python3.10/site-packages (from pooch>=1.1->librosa) (3.10.0)\n",
      "Requirement already satisfied: charset-normalizer<4,>=2 in /home/rohinsood/.local/lib/python3.10/site-packages (from requests<3,>=2.21.0->tensorflow) (3.2.0)\n",
      "Requirement already satisfied: idna<4,>=2.5 in /home/rohinsood/.local/lib/python3.10/site-packages (from requests<3,>=2.21.0->tensorflow) (3.4)\n",
      "Requirement already satisfied: urllib3<3,>=1.21.1 in /home/rohinsood/.local/lib/python3.10/site-packages (from requests<3,>=2.21.0->tensorflow) (2.0.4)\n",
      "Requirement already satisfied: certifi>=2017.4.17 in /home/rohinsood/.local/lib/python3.10/site-packages (from requests<3,>=2.21.0->tensorflow) (2023.7.22)\n",
      "Requirement already satisfied: cffi>=1.0 in /home/rohinsood/.local/lib/python3.10/site-packages (from soundfile>=0.12.1->librosa) (1.15.1)\n",
      "Requirement already satisfied: markdown>=2.6.8 in /home/rohinsood/.local/lib/python3.10/site-packages (from tensorboard<2.17,>=2.16->tensorflow) (3.6)\n",
      "Requirement already satisfied: tensorboard-data-server<0.8.0,>=0.7.0 in /home/rohinsood/.local/lib/python3.10/site-packages (from tensorboard<2.17,>=2.16->tensorflow) (0.7.2)\n",
      "Requirement already satisfied: werkzeug>=1.0.1 in /home/rohinsood/.local/lib/python3.10/site-packages (from tensorboard<2.17,>=2.16->tensorflow) (3.0.2)\n",
      "Requirement already satisfied: MarkupSafe>=2.0 in /home/rohinsood/.local/lib/python3.10/site-packages (from jinja2->torch) (2.1.5)\n",
      "Requirement already satisfied: pycparser in /home/rohinsood/.local/lib/python3.10/site-packages (from cffi>=1.0->soundfile>=0.12.1->librosa) (2.21)\n",
      "Requirement already satisfied: markdown-it-py>=2.2.0 in /home/rohinsood/.local/lib/python3.10/site-packages (from rich->keras>=3.0.0->tensorflow) (3.0.0)\n",
      "Requirement already satisfied: pygments<3.0.0,>=2.13.0 in /home/rohinsood/.local/lib/python3.10/site-packages (from rich->keras>=3.0.0->tensorflow) (2.16.1)\n",
      "Requirement already satisfied: mdurl~=0.1 in /home/rohinsood/.local/lib/python3.10/site-packages (from markdown-it-py>=2.2.0->rich->keras>=3.0.0->tensorflow) (0.1.2)\n",
      "Downloading librosa-0.11.0-py3-none-any.whl (260 kB)\n",
      "Downloading torchaudio-2.6.0-cp310-cp310-manylinux1_x86_64.whl (3.4 MB)\n",
      "\u001b[2K   \u001b[90m━━━━━━━━━━━━━━━━━━━━━━━━━━━━━━━━━━━━━━━━\u001b[0m \u001b[32m3.4/3.4 MB\u001b[0m \u001b[31m40.1 MB/s\u001b[0m eta \u001b[36m0:00:00\u001b[0m\n",
      "\u001b[?25hDownloading torch-2.6.0-cp310-cp310-manylinux1_x86_64.whl (766.7 MB)\n",
      "\u001b[2K   \u001b[90m━━━━━━━━━━━━━━━━━━━━━━━━━━━━━━━━━━━━━━━━\u001b[0m \u001b[32m766.7/766.7 MB\u001b[0m \u001b[31m19.2 MB/s\u001b[0m eta \u001b[36m0:00:00\u001b[0m00:01\u001b[0m00:01\u001b[0m\n",
      "\u001b[?25hDownloading nvidia_cublas_cu12-12.4.5.8-py3-none-manylinux2014_x86_64.whl (363.4 MB)\n",
      "\u001b[2K   \u001b[90m━━━━━━━━━━━━━━━━━━━━━━━━━━━━━━━━━━━━━━━━\u001b[0m \u001b[32m363.4/363.4 MB\u001b[0m \u001b[31m13.3 MB/s\u001b[0m eta \u001b[36m0:00:00\u001b[0m00:01\u001b[0m00:01\u001b[0m\n",
      "\u001b[?25hDownloading nvidia_cuda_cupti_cu12-12.4.127-py3-none-manylinux2014_x86_64.whl (13.8 MB)\n",
      "\u001b[2K   \u001b[90m━━━━━━━━━━━━━━━━━━━━━━━━━━━━━━━━━━━━━━━━\u001b[0m \u001b[32m13.8/13.8 MB\u001b[0m \u001b[31m25.7 MB/s\u001b[0m eta \u001b[36m0:00:00\u001b[0ma \u001b[36m0:00:01\u001b[0m\n",
      "\u001b[?25hDownloading nvidia_cuda_nvrtc_cu12-12.4.127-py3-none-manylinux2014_x86_64.whl (24.6 MB)\n",
      "\u001b[2K   \u001b[90m━━━━━━━━━━━━━━━━━━━━━━━━━━━━━━━━━━━━━━━━\u001b[0m \u001b[32m24.6/24.6 MB\u001b[0m \u001b[31m27.9 MB/s\u001b[0m eta \u001b[36m0:00:00\u001b[0ma \u001b[36m0:00:01\u001b[0m\n",
      "\u001b[?25hDownloading nvidia_cuda_runtime_cu12-12.4.127-py3-none-manylinux2014_x86_64.whl (883 kB)\n",
      "\u001b[2K   \u001b[90m━━━━━━━━━━━━━━━━━━━━━━━━━━━━━━━━━━━━━━━━\u001b[0m \u001b[32m883.7/883.7 kB\u001b[0m \u001b[31m19.1 MB/s\u001b[0m eta \u001b[36m0:00:00\u001b[0m\n",
      "\u001b[?25hDownloading nvidia_cufft_cu12-11.2.1.3-py3-none-manylinux2014_x86_64.whl (211.5 MB)\n",
      "\u001b[2K   \u001b[90m━━━━━━━━━━━━━━━━━━━━━━━━━━━━━━━━━━━━━━━━\u001b[0m \u001b[32m211.5/211.5 MB\u001b[0m \u001b[31m27.4 MB/s\u001b[0m eta \u001b[36m0:00:00\u001b[0m00:01\u001b[0m00:01\u001b[0m\n",
      "\u001b[?25hDownloading nvidia_curand_cu12-10.3.5.147-py3-none-manylinux2014_x86_64.whl (56.3 MB)\n",
      "\u001b[2K   \u001b[90m━━━━━━━━━━━━━━━━━━━━━━━━━━━━━━━━━━━━━━━━\u001b[0m \u001b[32m56.3/56.3 MB\u001b[0m \u001b[31m20.6 MB/s\u001b[0m eta \u001b[36m0:00:00\u001b[0m00:01\u001b[0m00:01\u001b[0m\n",
      "\u001b[?25hDownloading nvidia_cusolver_cu12-11.6.1.9-py3-none-manylinux2014_x86_64.whl (127.9 MB)\n",
      "\u001b[2K   \u001b[90m━━━━━━━━━━━━━━━━━━━━━━━━━━━━━━━━━━━━━━━━\u001b[0m \u001b[32m127.9/127.9 MB\u001b[0m \u001b[31m21.4 MB/s\u001b[0m eta \u001b[36m0:00:00\u001b[0m00:01\u001b[0m00:01\u001b[0m\n",
      "\u001b[?25hDownloading nvidia_cusparse_cu12-12.3.1.170-py3-none-manylinux2014_x86_64.whl (207.5 MB)\n",
      "\u001b[2K   \u001b[90m━━━━━━━━━━━━━━━━━━━━━━━━━━━━━━━━━━━━━━━━\u001b[0m \u001b[32m207.5/207.5 MB\u001b[0m \u001b[31m21.4 MB/s\u001b[0m eta \u001b[36m0:00:00\u001b[0m00:01\u001b[0m00:01\u001b[0m\n",
      "\u001b[?25hDownloading nvidia_cusparselt_cu12-0.6.2-py3-none-manylinux2014_x86_64.whl (150.1 MB)\n",
      "\u001b[2K   \u001b[90m━━━━━━━━━━━━━━━━━━━━━━━━━━━━━━━━━━━━━━━━\u001b[0m \u001b[32m150.1/150.1 MB\u001b[0m \u001b[31m10.3 MB/s\u001b[0m eta \u001b[36m0:00:00\u001b[0m00:01\u001b[0m00:01\u001b[0m\n",
      "\u001b[?25hDownloading nvidia_nccl_cu12-2.21.5-py3-none-manylinux2014_x86_64.whl (188.7 MB)\n",
      "\u001b[2K   \u001b[90m━━━━━━━━━━━━━━━━━━━━━━━━━━━━━━━━━━━━━━━━\u001b[0m \u001b[32m188.7/188.7 MB\u001b[0m \u001b[31m21.3 MB/s\u001b[0m eta \u001b[36m0:00:00\u001b[0m00:01\u001b[0m00:01\u001b[0m\n",
      "\u001b[?25hDownloading nvidia_nvjitlink_cu12-12.4.127-py3-none-manylinux2014_x86_64.whl (21.1 MB)\n",
      "\u001b[2K   \u001b[90m━━━━━━━━━━━━━━━━━━━━━━━━━━━━━━━━━━━━━━━━\u001b[0m \u001b[32m21.1/21.1 MB\u001b[0m \u001b[31m23.7 MB/s\u001b[0m eta \u001b[36m0:00:00\u001b[0ma \u001b[36m0:00:01\u001b[0m\n",
      "\u001b[?25hDownloading nvidia_nvtx_cu12-12.4.127-py3-none-manylinux2014_x86_64.whl (99 kB)\n",
      "Downloading triton-3.2.0-cp310-cp310-manylinux_2_17_x86_64.manylinux2014_x86_64.whl (253.1 MB)\n",
      "\u001b[2K   \u001b[90m━━━━━━━━━━━━━━━━━━━━━━━━━━━━━━━━━━━━━━━━\u001b[0m \u001b[32m253.1/253.1 MB\u001b[0m \u001b[31m21.3 MB/s\u001b[0m eta \u001b[36m0:00:00\u001b[0m00:01\u001b[0m00:01\u001b[0m\n",
      "\u001b[?25hDownloading audioread-3.0.1-py3-none-any.whl (23 kB)\n",
      "Downloading lazy_loader-0.4-py3-none-any.whl (12 kB)\n",
      "Downloading pooch-1.8.2-py3-none-any.whl (64 kB)\n",
      "Downloading soundfile-0.13.1-py2.py3-none-manylinux_2_28_x86_64.whl (1.3 MB)\n",
      "\u001b[2K   \u001b[90m━━━━━━━━━━━━━━━━━━━━━━━━━━━━━━━━━━━━━━━━\u001b[0m \u001b[32m1.3/1.3 MB\u001b[0m \u001b[31m23.0 MB/s\u001b[0m eta \u001b[36m0:00:00\u001b[0m\n",
      "\u001b[?25hDownloading soxr-0.5.0.post1-cp310-cp310-manylinux_2_17_x86_64.manylinux2014_x86_64.whl (252 kB)\n",
      "\u001b[33mWARNING: Ignoring invalid distribution -umpy (/home/rohinsood/.local/lib/python3.10/site-packages)\u001b[0m\u001b[33m\n",
      "\u001b[0mInstalling collected packages: triton, nvidia-cusparselt-cu12, soxr, nvidia-nvtx-cu12, nvidia-nvjitlink-cu12, nvidia-nccl-cu12, nvidia-curand-cu12, nvidia-cufft-cu12, nvidia-cuda-runtime-cu12, nvidia-cuda-nvrtc-cu12, nvidia-cuda-cupti-cu12, nvidia-cublas-cu12, lazy_loader, audioread, soundfile, pooch, nvidia-cusparse-cu12, nvidia-cusolver-cu12, librosa, torch, torchaudio\n",
      "  Attempting uninstall: triton\n",
      "    Found existing installation: triton 3.0.0\n",
      "    Uninstalling triton-3.0.0:\n",
      "      Successfully uninstalled triton-3.0.0\n",
      "  Attempting uninstall: nvidia-nvtx-cu12\n",
      "    Found existing installation: nvidia-nvtx-cu12 12.1.105\n",
      "    Uninstalling nvidia-nvtx-cu12-12.1.105:\n",
      "      Successfully uninstalled nvidia-nvtx-cu12-12.1.105\n",
      "  Attempting uninstall: nvidia-nvjitlink-cu12\n",
      "    Found existing installation: nvidia-nvjitlink-cu12 12.5.82\n",
      "    Uninstalling nvidia-nvjitlink-cu12-12.5.82:\n",
      "      Successfully uninstalled nvidia-nvjitlink-cu12-12.5.82\n",
      "  Attempting uninstall: nvidia-nccl-cu12\n",
      "    Found existing installation: nvidia-nccl-cu12 2.20.5\n",
      "    Uninstalling nvidia-nccl-cu12-2.20.5:\n",
      "      Successfully uninstalled nvidia-nccl-cu12-2.20.5\n",
      "  Attempting uninstall: nvidia-curand-cu12\n",
      "    Found existing installation: nvidia-curand-cu12 10.3.2.106\n",
      "    Uninstalling nvidia-curand-cu12-10.3.2.106:\n",
      "      Successfully uninstalled nvidia-curand-cu12-10.3.2.106\n",
      "  Attempting uninstall: nvidia-cufft-cu12\n",
      "    Found existing installation: nvidia-cufft-cu12 11.0.2.54\n",
      "    Uninstalling nvidia-cufft-cu12-11.0.2.54:\n",
      "      Successfully uninstalled nvidia-cufft-cu12-11.0.2.54\n",
      "  Attempting uninstall: nvidia-cuda-runtime-cu12\n",
      "    Found existing installation: nvidia-cuda-runtime-cu12 12.1.105\n",
      "    Uninstalling nvidia-cuda-runtime-cu12-12.1.105:\n",
      "      Successfully uninstalled nvidia-cuda-runtime-cu12-12.1.105\n",
      "  Attempting uninstall: nvidia-cuda-nvrtc-cu12\n",
      "    Found existing installation: nvidia-cuda-nvrtc-cu12 12.1.105\n",
      "    Uninstalling nvidia-cuda-nvrtc-cu12-12.1.105:\n",
      "      Successfully uninstalled nvidia-cuda-nvrtc-cu12-12.1.105\n",
      "  Attempting uninstall: nvidia-cuda-cupti-cu12\n",
      "    Found existing installation: nvidia-cuda-cupti-cu12 12.1.105\n",
      "    Uninstalling nvidia-cuda-cupti-cu12-12.1.105:\n",
      "      Successfully uninstalled nvidia-cuda-cupti-cu12-12.1.105\n",
      "  Attempting uninstall: nvidia-cublas-cu12\n",
      "    Found existing installation: nvidia-cublas-cu12 12.1.3.1\n",
      "    Uninstalling nvidia-cublas-cu12-12.1.3.1:\n",
      "      Successfully uninstalled nvidia-cublas-cu12-12.1.3.1\n",
      "  Attempting uninstall: nvidia-cusparse-cu12\n",
      "    Found existing installation: nvidia-cusparse-cu12 12.1.0.106\n",
      "    Uninstalling nvidia-cusparse-cu12-12.1.0.106:\n",
      "      Successfully uninstalled nvidia-cusparse-cu12-12.1.0.106\n",
      "  Attempting uninstall: nvidia-cusolver-cu12\n",
      "    Found existing installation: nvidia-cusolver-cu12 11.4.5.107\n",
      "    Uninstalling nvidia-cusolver-cu12-11.4.5.107:\n",
      "      Successfully uninstalled nvidia-cusolver-cu12-11.4.5.107\n",
      "  Attempting uninstall: torch\n",
      "    Found existing installation: torch 2.4.0\n",
      "    Uninstalling torch-2.4.0:\n",
      "      Successfully uninstalled torch-2.4.0\n",
      "\u001b[33mWARNING: Ignoring invalid distribution -umpy (/home/rohinsood/.local/lib/python3.10/site-packages)\u001b[0m\u001b[33m\n",
      "\u001b[0mSuccessfully installed audioread-3.0.1 lazy_loader-0.4 librosa-0.11.0 nvidia-cublas-cu12-12.4.5.8 nvidia-cuda-cupti-cu12-12.4.127 nvidia-cuda-nvrtc-cu12-12.4.127 nvidia-cuda-runtime-cu12-12.4.127 nvidia-cufft-cu12-11.2.1.3 nvidia-curand-cu12-10.3.5.147 nvidia-cusolver-cu12-11.6.1.9 nvidia-cusparse-cu12-12.3.1.170 nvidia-cusparselt-cu12-0.6.2 nvidia-nccl-cu12-2.21.5 nvidia-nvjitlink-cu12-12.4.127 nvidia-nvtx-cu12-12.4.127 pooch-1.8.2 soundfile-0.13.1 soxr-0.5.0.post1 torch-2.6.0 torchaudio-2.6.0 triton-3.2.0\n",
      "\n",
      "\u001b[1m[\u001b[0m\u001b[34;49mnotice\u001b[0m\u001b[1;39;49m]\u001b[0m\u001b[39;49m A new release of pip is available: \u001b[0m\u001b[31;49m24.2\u001b[0m\u001b[39;49m -> \u001b[0m\u001b[32;49m25.0.1\u001b[0m\n",
      "\u001b[1m[\u001b[0m\u001b[34;49mnotice\u001b[0m\u001b[1;39;49m]\u001b[0m\u001b[39;49m To update, run: \u001b[0m\u001b[32;49mpip install --upgrade pip\u001b[0m\n"
     ]
    }
   ],
   "source": [
    "!pip install numpy librosa matplotlib scikit-learn tensorflow torch torchaudio"
   ]
  },
  {
   "cell_type": "code",
   "execution_count": 6,
   "metadata": {},
   "outputs": [
    {
     "name": "stdout",
     "output_type": "stream",
     "text": [
      "\n",
      "CSV Files Containing Slap Techniques (ST, SP):\n",
      "007_note_parameters.csv: 56 slap notes found\n",
      "013_note_parameters.csv: 56 slap notes found\n",
      "016_note_parameters.csv: 52 slap notes found\n"
     ]
    }
   ],
   "source": [
    "# Define the column headers\n",
    "headers = [\"onset\", \"offset\", \"pitch\", \"string_number\", \"fret_number\", \n",
    "           \"plucking_style\", \"expression_style\", \"modulation_frequency\", \"modulation_range\"]\n",
    "\n",
    "# Define the path to the dataset folder\n",
    "dataset_path = \"./IDMT-SMT-BASS-SINGLE-TRACKS/misc/notes_csv/\"  # Change this to your actual path\n",
    "\n",
    "# List all CSV files in the folder\n",
    "csv_files = [f for f in os.listdir(dataset_path) if f.endswith('.csv')]\n",
    "\n",
    "# Initialize a dictionary to store files that contain slap techniques\n",
    "slap_files = {}\n",
    "\n",
    "# Process each CSV file\n",
    "for file in csv_files:\n",
    "    file_path = os.path.join(dataset_path, file)\n",
    "    \n",
    "    # Load CSV with headers\n",
    "    df = pd.read_csv(file_path, names=headers)\n",
    "    \n",
    "    # Filter for slap techniques (ST, SP)\n",
    "    slap_df = df[df[\"plucking_style\"].isin([\"ST\", \"SP\"])]\n",
    "    \n",
    "    if not slap_df.empty:\n",
    "        slap_files[file] = len(slap_df)  # Store file name and count of slap notes\n",
    "\n",
    "# Display files that contain slap techniques\n",
    "if slap_files:\n",
    "    print(\"\\nCSV Files Containing Slap Techniques (ST, SP):\")\n",
    "    for file, count in slap_files.items():\n",
    "        print(f\"{file}: {count} slap notes found\")\n",
    "else:\n",
    "    print(\"\\nNo files with slap techniques found.\")\n"
   ]
  },
  {
   "attachments": {},
   "cell_type": "markdown",
   "metadata": {},
   "source": [
    "# Visualize Slap Bass"
   ]
  },
  {
   "cell_type": "code",
   "execution_count": 14,
   "metadata": {},
   "outputs": [
    {
     "data": {
      "image/png": "[encoded data removed]",
      "text/plain": [
       "<Figure size 1000x400 with 1 Axes>"
      ]
     },
     "metadata": {},
     "output_type": "display_data"
    }
   ],
   "source": [
    "df = pd.read_csv(dataset_path+\"007_note_parameters.csv\", names=headers)\n",
    "\n",
    "# Filter slap techniques\n",
    "slap_df = df[df[\"plucking_style\"].isin([\"ST\", \"SP\"])]\n",
    "\n",
    "# Plot the distribution of slap notes over time\n",
    "plt.figure(figsize=(10, 4))\n",
    "plt.scatter(slap_df[\"onset\"], slap_df[\"pitch\"], c=\"red\", label=\"Slap Notes\")\n",
    "plt.xlabel(\"Time (seconds)\")\n",
    "plt.ylabel(\"MIDI Pitch\")\n",
    "plt.title(\"Slap Notes Over Time\")\n",
    "plt.legend()\n",
    "plt.show()\n"
   ]
  },
  {
   "attachments": {},
   "cell_type": "markdown",
   "metadata": {},
   "source": [
    "# Visualize Waveforms & Spectograms"
   ]
  },
  {
   "cell_type": "code",
   "execution_count": null,
   "metadata": {},
   "outputs": [],
   "source": [
    "import librosa\n",
    "import librosa.display\n",
    "import matplotlib.pyplot as plt\n",
    "import numpy as np\n",
    "\n",
    "# Load the corresponding audio file (adjust path as needed)\n",
    "audio_file = \"./IDMT-SMT-BASS-SINGLE-TRACKS/audio/007.wav\"\n",
    "y_audio, sr = librosa.load(audio_file, sr=None)  # Use original sampling rate (44.1kHz)\n",
    "\n",
    "# Loop through slap notes and visualize one or a few\n",
    "for i, row in slap_df.iterrows():\n",
    "    onset = row[\"onset\"]\n",
    "    offset = row[\"offset\"]\n",
    "    pluck_type = row[\"plucking_style\"]\n",
    "    \n",
    "    # Convert times to sample indices\n",
    "    start_sample = int(onset * sr)\n",
    "    end_sample = int(offset * sr)\n",
    "    segment = y_audio[start_sample:end_sample]\n",
    "\n",
    "    # Plot waveform\n",
    "    plt.figure(figsize=(10, 2))\n",
    "    librosa.display.waveshow(segment, sr=sr)\n",
    "    plt.title(f\"{pluck_type} Note (onset: {onset:.2f}s)\")\n",
    "    plt.xlabel(\"Time\")\n",
    "    plt.ylabel(\"Amplitude\")\n",
    "    plt.tight_layout()\n",
    "    plt.show()\n",
    "\n",
    "    # Plot spectrogram\n",
    "    plt.figure(figsize=(10, 4))\n",
    "    S = librosa.feature.melspectrogram(y=segment, sr=sr, n_fft=1024, hop_length=256)\n",
    "    S_dB = librosa.power_to_db(S, ref=np.max)\n",
    "    librosa.display.specshow(S_dB, sr=sr, hop_length=256, x_axis='time', y_axis='mel')\n",
    "    plt.colorbar(format='%+2.0f dB')\n",
    "    plt.title(f\"Mel Spectrogram - {pluck_type}\")\n",
    "    plt.tight_layout()\n",
    "    plt.show()\n",
    "\n",
    "    # Optional: break after 3 notes for testing\n",
    "    if i >= 10:\n",
    "        break\n"
   ]
  },
  {
   "attachments": {},
   "cell_type": "markdown",
   "metadata": {},
   "source": [
    "# Feature Extraction & Build Dataset"
   ]
  },
  {
   "attachments": {},
   "cell_type": "markdown",
   "metadata": {},
   "source": [
    "## 007 Feature Extraction & Classifier (POC)"
   ]
  },
  {
   "cell_type": "code",
   "execution_count": 26,
   "metadata": {},
   "outputs": [
    {
     "name": "stdout",
     "output_type": "stream",
     "text": [
      "Feature shape: (56, 13)\n",
      "Labels: ['SP' 'ST']\n"
     ]
    }
   ],
   "source": [
    "import numpy as np\n",
    "\n",
    "# Create lists to hold features and labels\n",
    "X = []\n",
    "y = []\n",
    "\n",
    "# Loop over all slap notes and extract MFCC features\n",
    "for i, row in slap_df.iterrows():\n",
    "    onset = row[\"onset\"]\n",
    "    offset = row[\"offset\"]\n",
    "    label = row[\"plucking_style\"]  # \"ST\" or \"SP\"\n",
    "    \n",
    "    start_sample = int(onset * sr)\n",
    "    end_sample = int(offset * sr)\n",
    "    segment = y_audio[start_sample:end_sample]\n",
    "\n",
    "    # Skip very short segments\n",
    "    # if len(segment) < 2048:\n",
    "    #     continue\n",
    "\n",
    "    # Extract MFCCs (take mean over time to flatten into 1D vector)\n",
    "    mfcc = librosa.feature.mfcc(y=segment, sr=sr, n_mfcc=13)\n",
    "    mfcc_mean = np.mean(mfcc, axis=1)\n",
    "\n",
    "    X.append(mfcc_mean)\n",
    "    y.append(label)\n",
    "\n",
    "# Convert to NumPy arrays\n",
    "X = np.array(X)\n",
    "y = np.array(y)\n",
    "\n",
    "print(f\"Feature shape: {X.shape}\")\n",
    "print(f\"Labels: {np.unique(y)}\")\n"
   ]
  },
  {
   "cell_type": "code",
   "execution_count": 34,
   "metadata": {},
   "outputs": [
    {
     "data": {
      "text/plain": [
       "array([[-5.4279364e+02,  1.7588744e+02,  3.1119236e+01, ...,\n",
       "        -5.4971542e+00, -1.0766131e+01, -2.0593314e+00],\n",
       "       [-6.3071161e+02,  1.7763579e+02,  4.5650898e+01, ...,\n",
       "         1.4830404e+01,  5.1634827e+00, -1.9814106e+00],\n",
       "       [-4.1015317e+02,  1.6687607e+02, -2.8713873e+01, ...,\n",
       "        -1.0605835e+00, -1.2887118e+00, -7.6300797e+00],\n",
       "       ...,\n",
       "       [-4.2241779e+02,  1.6322862e+02, -4.5347420e+01, ...,\n",
       "         2.0307028e+00,  6.8632311e-01,  1.2590764e+00],\n",
       "       [-5.9069940e+02,  1.9275137e+02,  4.7785019e+01, ...,\n",
       "         4.5131526e+00,  1.4911944e+00,  6.2783966e+00],\n",
       "       [-5.5327576e+02,  1.7946069e+02,  9.3336878e+00, ...,\n",
       "        -3.1445378e-01, -3.1571786e+00, -4.6217732e+00]], dtype=float32)"
      ]
     },
     "execution_count": 34,
     "metadata": {},
     "output_type": "execute_result"
    }
   ],
   "source": [
    "X"
   ]
  },
  {
   "cell_type": "code",
   "execution_count": 37,
   "metadata": {},
   "outputs": [
    {
     "data": {
      "text/plain": [
       "array(['ST', 'ST', 'SP', 'SP', 'ST', 'ST', 'SP', 'ST', 'SP', 'ST', 'SP',\n",
       "       'SP', 'ST', 'ST', 'ST', 'SP', 'SP', 'ST', 'ST', 'SP', 'ST', 'SP',\n",
       "       'ST', 'SP', 'SP', 'ST', 'ST', 'ST', 'ST', 'SP', 'SP', 'ST', 'ST',\n",
       "       'SP', 'ST', 'SP', 'ST', 'SP', 'SP', 'ST', 'ST', 'ST', 'ST', 'SP',\n",
       "       'SP', 'ST', 'ST', 'SP', 'ST', 'SP', 'ST', 'SP', 'SP', 'ST', 'ST',\n",
       "       'ST', 'ST', 'ST', 'ST', 'ST', 'ST', 'SP', 'ST', 'ST', 'ST', 'ST',\n",
       "       'ST', 'ST', 'SP', 'SP', 'ST', 'ST', 'ST', 'ST', 'ST', 'SP', 'ST',\n",
       "       'ST', 'ST', 'ST', 'ST', 'ST', 'SP', 'SP', 'ST', 'ST', 'ST', 'ST',\n",
       "       'ST', 'SP', 'ST', 'ST', 'ST', 'ST', 'ST', 'ST', 'SP', 'SP', 'ST',\n",
       "       'ST', 'ST', 'ST', 'ST', 'SP', 'ST', 'ST', 'ST', 'ST', 'ST', 'ST',\n",
       "       'SP', 'SP', 'SP', 'ST', 'ST', 'ST', 'ST', 'ST', 'SP', 'ST', 'ST',\n",
       "       'ST', 'ST', 'SP', 'SP', 'ST', 'ST', 'ST', 'ST', 'ST', 'SP', 'ST',\n",
       "       'ST', 'ST', 'ST', 'SP', 'ST', 'SP', 'SP', 'ST', 'ST', 'ST', 'ST',\n",
       "       'ST', 'SP', 'ST', 'ST', 'ST', 'ST', 'SP', 'SP', 'ST', 'ST', 'ST',\n",
       "       'ST', 'ST', 'SP', 'ST', 'ST', 'ST', 'ST', 'SP', 'ST', 'SP'],\n",
       "      dtype='<U2')"
      ]
     },
     "execution_count": 37,
     "metadata": {},
     "output_type": "execute_result"
    }
   ],
   "source": [
    "y"
   ]
  },
  {
   "cell_type": "code",
   "execution_count": 27,
   "metadata": {},
   "outputs": [
    {
     "name": "stdout",
     "output_type": "stream",
     "text": [
      "              precision    recall  f1-score   support\n",
      "\n",
      "          SP       1.00      1.00      1.00         5\n",
      "          ST       1.00      1.00      1.00         7\n",
      "\n",
      "    accuracy                           1.00        12\n",
      "   macro avg       1.00      1.00      1.00        12\n",
      "weighted avg       1.00      1.00      1.00        12\n",
      "\n"
     ]
    }
   ],
   "source": [
    "from sklearn.model_selection import train_test_split\n",
    "from sklearn.ensemble import RandomForestClassifier\n",
    "from sklearn.metrics import classification_report\n",
    "\n",
    "# Train/test split\n",
    "X_train, X_test, y_train, y_test = train_test_split(X, y, stratify=y, test_size=0.2, random_state=42)\n",
    "\n",
    "# Train classifier\n",
    "clf = RandomForestClassifier(n_estimators=100, random_state=42)\n",
    "clf.fit(X_train, y_train)\n",
    "\n",
    "# Predict and evaluate\n",
    "y_pred = clf.predict(X_test)\n",
    "print(classification_report(y_test, y_pred))\n"
   ]
  },
  {
   "attachments": {},
   "cell_type": "markdown",
   "metadata": {},
   "source": [
    "### Get all Slap Bass Data"
   ]
  },
  {
   "cell_type": "code",
   "execution_count": 28,
   "metadata": {},
   "outputs": [
    {
     "name": "stdout",
     "output_type": "stream",
     "text": [
      "Total slap notes: 164\n",
      "     onset   offset plucking_style  \\\n",
      "0  0.00000  0.31578             ST   \n",
      "1  0.31578  0.47367             ST   \n",
      "2  0.47370  0.63159             SP   \n",
      "3  0.78948  0.94739             SP   \n",
      "4  0.94739  1.26320             ST   \n",
      "\n",
      "                                    audio_file  \n",
      "0  ./IDMT-SMT-BASS-SINGLE-TRACKS/audio/007.wav  \n",
      "1  ./IDMT-SMT-BASS-SINGLE-TRACKS/audio/007.wav  \n",
      "2  ./IDMT-SMT-BASS-SINGLE-TRACKS/audio/007.wav  \n",
      "3  ./IDMT-SMT-BASS-SINGLE-TRACKS/audio/007.wav  \n",
      "4  ./IDMT-SMT-BASS-SINGLE-TRACKS/audio/007.wav  \n"
     ]
    }
   ],
   "source": [
    "import pandas as pd\n",
    "import os\n",
    "\n",
    "# Define headers based on dataset spec\n",
    "headers = [\"onset\", \"offset\", \"pitch\", \"string_number\", \"fret_number\", \n",
    "           \"plucking_style\", \"expression_style\", \"modulation_frequency\", \"modulation_range\"]\n",
    "\n",
    "# Define folder paths\n",
    "csv_folder = \"./IDMT-SMT-BASS-SINGLE-TRACKS/misc/notes_csv/\"\n",
    "audio_folder = \"./IDMT-SMT-BASS-SINGLE-TRACKS/audio\"\n",
    "\n",
    "# Get all CSV files\n",
    "csv_files = sorted([f for f in os.listdir(csv_folder) if f.endswith(\".csv\")])\n",
    "\n",
    "# Master DataFrame for all slap notes\n",
    "slap_notes_all = []\n",
    "\n",
    "for csv_file in csv_files:\n",
    "    file_path = os.path.join(csv_folder, csv_file)\n",
    "    df = pd.read_csv(file_path, names=headers)\n",
    "\n",
    "    # Keep only slap notes\n",
    "    slap_df = df[df[\"plucking_style\"].isin([\"ST\", \"SP\"])].copy()\n",
    "    \n",
    "    if not slap_df.empty:\n",
    "        audio_filename = csv_file.replace(\"_note_parameters.csv\", \".wav\")\n",
    "        slap_df[\"audio_file\"] = os.path.join(audio_folder, audio_filename)\n",
    "        slap_df[\"source_csv\"] = csv_file\n",
    "        slap_notes_all.append(slap_df)\n",
    "\n",
    "# Combine all into one DataFrame\n",
    "all_slap_notes_df = pd.concat(slap_notes_all, ignore_index=True)\n",
    "\n",
    "# Preview the slap note dataset\n",
    "print(f\"Total slap notes: {len(all_slap_notes_df)}\")\n",
    "print(all_slap_notes_df[[\"onset\", \"offset\", \"plucking_style\", \"audio_file\"]].head())\n"
   ]
  },
  {
   "cell_type": "code",
   "execution_count": 30,
   "metadata": {},
   "outputs": [
    {
     "data": {
      "text/html": [
       "<div>\n",
       "<style scoped>\n",
       "    .dataframe tbody tr th:only-of-type {\n",
       "        vertical-align: middle;\n",
       "    }\n",
       "\n",
       "    .dataframe tbody tr th {\n",
       "        vertical-align: top;\n",
       "    }\n",
       "\n",
       "    .dataframe thead th {\n",
       "        text-align: right;\n",
       "    }\n",
       "</style>\n",
       "<table border=\"1\" class=\"dataframe\">\n",
       "  <thead>\n",
       "    <tr style=\"text-align: right;\">\n",
       "      <th></th>\n",
       "      <th>onset</th>\n",
       "      <th>offset</th>\n",
       "      <th>plucking_style</th>\n",
       "      <th>audio_file</th>\n",
       "    </tr>\n",
       "  </thead>\n",
       "  <tbody>\n",
       "    <tr>\n",
       "      <th>0</th>\n",
       "      <td>0.00000</td>\n",
       "      <td>0.31578</td>\n",
       "      <td>ST</td>\n",
       "      <td>./IDMT-SMT-BASS-SINGLE-TRACKS/audio/007.wav</td>\n",
       "    </tr>\n",
       "    <tr>\n",
       "      <th>1</th>\n",
       "      <td>0.31578</td>\n",
       "      <td>0.47367</td>\n",
       "      <td>ST</td>\n",
       "      <td>./IDMT-SMT-BASS-SINGLE-TRACKS/audio/007.wav</td>\n",
       "    </tr>\n",
       "    <tr>\n",
       "      <th>2</th>\n",
       "      <td>0.47370</td>\n",
       "      <td>0.63159</td>\n",
       "      <td>SP</td>\n",
       "      <td>./IDMT-SMT-BASS-SINGLE-TRACKS/audio/007.wav</td>\n",
       "    </tr>\n",
       "    <tr>\n",
       "      <th>3</th>\n",
       "      <td>0.78948</td>\n",
       "      <td>0.94739</td>\n",
       "      <td>SP</td>\n",
       "      <td>./IDMT-SMT-BASS-SINGLE-TRACKS/audio/007.wav</td>\n",
       "    </tr>\n",
       "    <tr>\n",
       "      <th>4</th>\n",
       "      <td>0.94739</td>\n",
       "      <td>1.26320</td>\n",
       "      <td>ST</td>\n",
       "      <td>./IDMT-SMT-BASS-SINGLE-TRACKS/audio/007.wav</td>\n",
       "    </tr>\n",
       "    <tr>\n",
       "      <th>...</th>\n",
       "      <td>...</td>\n",
       "      <td>...</td>\n",
       "      <td>...</td>\n",
       "      <td>...</td>\n",
       "    </tr>\n",
       "    <tr>\n",
       "      <th>159</th>\n",
       "      <td>17.70000</td>\n",
       "      <td>17.85000</td>\n",
       "      <td>ST</td>\n",
       "      <td>./IDMT-SMT-BASS-SINGLE-TRACKS/audio/016.wav</td>\n",
       "    </tr>\n",
       "    <tr>\n",
       "      <th>160</th>\n",
       "      <td>17.85000</td>\n",
       "      <td>18.24480</td>\n",
       "      <td>ST</td>\n",
       "      <td>./IDMT-SMT-BASS-SINGLE-TRACKS/audio/016.wav</td>\n",
       "    </tr>\n",
       "    <tr>\n",
       "      <th>161</th>\n",
       "      <td>18.30000</td>\n",
       "      <td>18.45000</td>\n",
       "      <td>SP</td>\n",
       "      <td>./IDMT-SMT-BASS-SINGLE-TRACKS/audio/016.wav</td>\n",
       "    </tr>\n",
       "    <tr>\n",
       "      <th>162</th>\n",
       "      <td>18.60000</td>\n",
       "      <td>18.90000</td>\n",
       "      <td>ST</td>\n",
       "      <td>./IDMT-SMT-BASS-SINGLE-TRACKS/audio/016.wav</td>\n",
       "    </tr>\n",
       "    <tr>\n",
       "      <th>163</th>\n",
       "      <td>18.90000</td>\n",
       "      <td>19.20000</td>\n",
       "      <td>SP</td>\n",
       "      <td>./IDMT-SMT-BASS-SINGLE-TRACKS/audio/016.wav</td>\n",
       "    </tr>\n",
       "  </tbody>\n",
       "</table>\n",
       "<p>164 rows × 4 columns</p>\n",
       "</div>"
      ],
      "text/plain": [
       "        onset    offset plucking_style  \\\n",
       "0     0.00000   0.31578             ST   \n",
       "1     0.31578   0.47367             ST   \n",
       "2     0.47370   0.63159             SP   \n",
       "3     0.78948   0.94739             SP   \n",
       "4     0.94739   1.26320             ST   \n",
       "..        ...       ...            ...   \n",
       "159  17.70000  17.85000             ST   \n",
       "160  17.85000  18.24480             ST   \n",
       "161  18.30000  18.45000             SP   \n",
       "162  18.60000  18.90000             ST   \n",
       "163  18.90000  19.20000             SP   \n",
       "\n",
       "                                      audio_file  \n",
       "0    ./IDMT-SMT-BASS-SINGLE-TRACKS/audio/007.wav  \n",
       "1    ./IDMT-SMT-BASS-SINGLE-TRACKS/audio/007.wav  \n",
       "2    ./IDMT-SMT-BASS-SINGLE-TRACKS/audio/007.wav  \n",
       "3    ./IDMT-SMT-BASS-SINGLE-TRACKS/audio/007.wav  \n",
       "4    ./IDMT-SMT-BASS-SINGLE-TRACKS/audio/007.wav  \n",
       "..                                           ...  \n",
       "159  ./IDMT-SMT-BASS-SINGLE-TRACKS/audio/016.wav  \n",
       "160  ./IDMT-SMT-BASS-SINGLE-TRACKS/audio/016.wav  \n",
       "161  ./IDMT-SMT-BASS-SINGLE-TRACKS/audio/016.wav  \n",
       "162  ./IDMT-SMT-BASS-SINGLE-TRACKS/audio/016.wav  \n",
       "163  ./IDMT-SMT-BASS-SINGLE-TRACKS/audio/016.wav  \n",
       "\n",
       "[164 rows x 4 columns]"
      ]
     },
     "execution_count": 30,
     "metadata": {},
     "output_type": "execute_result"
    }
   ],
   "source": [
    "all_slap_notes_df[[\"onset\", \"offset\", \"plucking_style\", \"audio_file\"]]"
   ]
  },
  {
   "attachments": {},
   "cell_type": "markdown",
   "metadata": {},
   "source": [
    "## All Slap Bass Data Feature Extraction "
   ]
  },
  {
   "cell_type": "code",
   "execution_count": 31,
   "metadata": {},
   "outputs": [
    {
     "name": "stdout",
     "output_type": "stream",
     "text": [
      "Total extracted samples: 164\n",
      "Feature shape: (164, 13)\n",
      "Label distribution: (array(['SP', 'ST'], dtype='<U2'), array([ 50, 114]))\n"
     ]
    }
   ],
   "source": [
    "import numpy as np\n",
    "import librosa\n",
    "\n",
    "# Lists to store features and labels\n",
    "X = []\n",
    "y = []\n",
    "\n",
    "# Loop through all slap notes from all files\n",
    "for idx, row in all_slap_notes_df.iterrows():\n",
    "    onset = row[\"onset\"]\n",
    "    offset = row[\"offset\"]\n",
    "    label = row[\"plucking_style\"]\n",
    "    audio_file = row[\"audio_file\"]\n",
    "    \n",
    "    try:\n",
    "        # Load the corresponding audio file once\n",
    "        y_audio, sr = librosa.load(audio_file, sr=None)\n",
    "\n",
    "        # Convert times to sample indices\n",
    "        start_sample = int(onset * sr)\n",
    "        end_sample = int(offset * sr)\n",
    "\n",
    "        # Extract the segment\n",
    "        segment = y_audio[start_sample:end_sample]\n",
    "\n",
    "        # Skip very short segments\n",
    "        if len(segment) < 2048:\n",
    "            continue\n",
    "\n",
    "        # Extract MFCC features\n",
    "        mfcc = librosa.feature.mfcc(y=segment, sr=sr, n_mfcc=13)\n",
    "        mfcc_mean = np.mean(mfcc, axis=1)  # Flatten over time\n",
    "\n",
    "        # Append to dataset\n",
    "        X.append(mfcc_mean)\n",
    "        y.append(label)\n",
    "\n",
    "    except Exception as e:\n",
    "        print(f\"Error processing {audio_file}: {e}\")\n",
    "\n",
    "# Convert to arrays\n",
    "X = np.array(X)\n",
    "y = np.array(y)\n",
    "\n",
    "print(f\"Total extracted samples: {len(X)}\")\n",
    "print(f\"Feature shape: {X.shape}\")\n",
    "print(f\"Label distribution: {np.unique(y, return_counts=True)}\")\n"
   ]
  },
  {
   "cell_type": "code",
   "execution_count": 33,
   "metadata": {},
   "outputs": [
    {
     "name": "stdout",
     "output_type": "stream",
     "text": [
      "              precision    recall  f1-score   support\n",
      "\n",
      "          SP     1.0000    0.9000    0.9474        10\n",
      "          ST     0.9583    1.0000    0.9787        23\n",
      "\n",
      "    accuracy                         0.9697        33\n",
      "   macro avg     0.9792    0.9500    0.9630        33\n",
      "weighted avg     0.9710    0.9697    0.9692        33\n",
      "\n"
     ]
    },
    {
     "data": {
      "image/png": "[encoded data removed]",
      "text/plain": [
       "<Figure size 640x480 with 2 Axes>"
      ]
     },
     "metadata": {},
     "output_type": "display_data"
    }
   ],
   "source": [
    "from sklearn.model_selection import train_test_split\n",
    "from sklearn.ensemble import RandomForestClassifier\n",
    "from sklearn.metrics import classification_report, confusion_matrix\n",
    "import seaborn as sns\n",
    "import matplotlib.pyplot as plt\n",
    "\n",
    "# Split into train/test sets\n",
    "X_train, X_test, y_train, y_test = train_test_split(\n",
    "    X, y, test_size=0.2, stratify=y, random_state=42\n",
    ")\n",
    "\n",
    "# Train a Random Forest classifier\n",
    "clf = RandomForestClassifier(n_estimators=100, random_state=42)\n",
    "clf.fit(X_train, y_train)\n",
    "\n",
    "# Make predictions\n",
    "y_pred = clf.predict(X_test)\n",
    "\n",
    "# Evaluate\n",
    "print(classification_report(y_test, y_pred, digits=4))\n",
    "\n",
    "# Confusion matrix\n",
    "conf_matrix = confusion_matrix(y_test, y_pred, labels=[\"ST\", \"SP\"])\n",
    "sns.heatmap(conf_matrix, annot=True, fmt=\"d\", xticklabels=[\"ST\", \"SP\"], yticklabels=[\"ST\", \"SP\"], cmap=\"Blues\")\n",
    "plt.xlabel(\"Predicted\")\n",
    "plt.ylabel(\"True\")\n",
    "plt.title(\"Confusion Matrix: Slap Technique Classifier\")\n",
    "plt.show()\n"
   ]
  },
  {
   "attachments": {},
   "cell_type": "markdown",
   "metadata": {},
   "source": [
    "### Save Dataset"
   ]
  },
  {
   "cell_type": "code",
   "execution_count": 38,
   "metadata": {},
   "outputs": [
    {
     "name": "stdout",
     "output_type": "stream",
     "text": [
      "Dataset saved as X.npy and y.npy\n"
     ]
    }
   ],
   "source": [
    "import numpy as np\n",
    "\n",
    "# Save feature set and labels\n",
    "np.save(\"X.npy\", X)\n",
    "np.save(\"y.npy\", y)\n",
    "\n",
    "print(\"Dataset saved as X.npy and y.npy\")"
   ]
  },
  {
   "attachments": {},
   "cell_type": "markdown",
   "metadata": {},
   "source": [
    "## Cross Validation & Hyperparameter Tuning"
   ]
  },
  {
   "cell_type": "code",
   "execution_count": 39,
   "metadata": {},
   "outputs": [
    {
     "name": "stdout",
     "output_type": "stream",
     "text": [
      "Fitting 5 folds for each of 27 candidates, totalling 135 fits\n",
      "Best Parameters: {'max_depth': None, 'min_samples_split': 2, 'n_estimators': 200}\n",
      "Best Accuracy: 0.9938\n"
     ]
    }
   ],
   "source": [
    "from sklearn.model_selection import GridSearchCV\n",
    "from sklearn.ensemble import RandomForestClassifier\n",
    "\n",
    "# Define hyperparameter grid\n",
    "param_grid = {\n",
    "    \"n_estimators\": [50, 100, 200],\n",
    "    \"max_depth\": [None, 10, 20],\n",
    "    \"min_samples_split\": [2, 5, 10]\n",
    "}\n",
    "\n",
    "# Run GridSearchCV\n",
    "clf = RandomForestClassifier(random_state=42)\n",
    "grid_search = GridSearchCV(clf, param_grid, cv=5, scoring=\"accuracy\", verbose=1, n_jobs=-1)\n",
    "grid_search.fit(X, y)\n",
    "\n",
    "# Best parameters & accuracy\n",
    "print(f\"Best Parameters: {grid_search.best_params_}\")\n",
    "print(f\"Best Accuracy: {grid_search.best_score_:.4f}\")\n",
    "\n",
    "# Train best model\n",
    "best_rf = grid_search.best_estimator_\n"
   ]
  },
  {
   "attachments": {},
   "cell_type": "markdown",
   "metadata": {},
   "source": [
    "## Save Model"
   ]
  },
  {
   "cell_type": "code",
   "execution_count": 40,
   "metadata": {},
   "outputs": [
    {
     "name": "stdout",
     "output_type": "stream",
     "text": [
      "Model saved as random_forest_slap_classifier.pkl\n"
     ]
    }
   ],
   "source": [
    "import joblib\n",
    "\n",
    "# Save the best model\n",
    "joblib.dump(best_rf, \"random_forest_slap_classifier.pkl\")\n",
    "\n",
    "print(\"Model saved as random_forest_slap_classifier.pkl\")\n"
   ]
  }
 ],
 "metadata": {
  "kernelspec": {
   "display_name": "Python 3",
   "language": "python",
   "name": "python3"
  },
  "language_info": {
   "codemirror_mode": {
    "name": "ipython",
    "version": 3
   },
   "file_extension": ".py",
   "mimetype": "text/x-python",
   "name": "python",
   "nbconvert_exporter": "python",
   "pygments_lexer": "ipython3",
   "version": "3.10.12"
  },
  "orig_nbformat": 4,
  "vscode": {
   "interpreter": {
    "hash": "e7370f93d1d0cde622a1f8e1c04877d8463912d04d973331ad4851f04de6915a"
   }
  }
 },
 "nbformat": 4,
 "nbformat_minor": 2
}
