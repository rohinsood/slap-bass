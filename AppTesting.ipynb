{
 "cells": [
  {
   "cell_type": "code",
   "execution_count": 1,
   "metadata": {},
   "outputs": [
    {
     "name": "stdout",
     "output_type": "stream",
     "text": [
      "Defaulting to user installation because normal site-packages is not writeable\n",
      "\u001b[33mWARNING: Ignoring invalid distribution -umpy (/home/rohinsood/.local/lib/python3.10/site-packages)\u001b[0m\u001b[33m\n",
      "\u001b[0m\u001b[33mWARNING: Ignoring invalid distribution -umpy (/home/rohinsood/.local/lib/python3.10/site-packages)\u001b[0m\u001b[33m\n",
      "\u001b[0mRequirement already satisfied: sounddevice in /home/rohinsood/.local/lib/python3.10/site-packages (from -r requirements.txt (line 1)) (0.5.1)\n",
      "Requirement already satisfied: librosa in /home/rohinsood/.local/lib/python3.10/site-packages (from -r requirements.txt (line 2)) (0.11.0)\n",
      "Requirement already satisfied: numpy in /home/rohinsood/.local/lib/python3.10/site-packages (from -r requirements.txt (line 3)) (1.26.4)\n",
      "Requirement already satisfied: joblib in /home/rohinsood/.local/lib/python3.10/site-packages (from -r requirements.txt (line 4)) (1.4.0)\n",
      "Requirement already satisfied: matplotlib in /home/rohinsood/.local/lib/python3.10/site-packages (from -r requirements.txt (line 5)) (3.8.3)\n",
      "Requirement already satisfied: scikit-learn in /home/rohinsood/.local/lib/python3.10/site-packages (from -r requirements.txt (line 6)) (1.4.2)\n",
      "Requirement already satisfied: tensorflow in /home/rohinsood/.local/lib/python3.10/site-packages (from -r requirements.txt (line 7)) (2.16.1)\n",
      "Requirement already satisfied: torch in /home/rohinsood/.local/lib/python3.10/site-packages (from -r requirements.txt (line 8)) (2.6.0)\n",
      "Requirement already satisfied: torchaudio in /home/rohinsood/.local/lib/python3.10/site-packages (from -r requirements.txt (line 9)) (2.6.0)\n",
      "Requirement already satisfied: CFFI>=1.0 in /home/rohinsood/.local/lib/python3.10/site-packages (from sounddevice->-r requirements.txt (line 1)) (1.15.1)\n",
      "Requirement already satisfied: audioread>=2.1.9 in /home/rohinsood/.local/lib/python3.10/site-packages (from librosa->-r requirements.txt (line 2)) (3.0.1)\n",
      "Requirement already satisfied: numba>=0.51.0 in /home/rohinsood/.local/lib/python3.10/site-packages (from librosa->-r requirements.txt (line 2)) (0.60.0)\n",
      "Requirement already satisfied: scipy>=1.6.0 in /home/rohinsood/.local/lib/python3.10/site-packages (from librosa->-r requirements.txt (line 2)) (1.13.0)\n",
      "Requirement already satisfied: decorator>=4.3.0 in /home/rohinsood/.local/lib/python3.10/site-packages (from librosa->-r requirements.txt (line 2)) (5.1.1)\n",
      "Requirement already satisfied: soundfile>=0.12.1 in /home/rohinsood/.local/lib/python3.10/site-packages (from librosa->-r requirements.txt (line 2)) (0.13.1)\n",
      "Requirement already satisfied: pooch>=1.1 in /home/rohinsood/.local/lib/python3.10/site-packages (from librosa->-r requirements.txt (line 2)) (1.8.2)\n",
      "Requirement already satisfied: soxr>=0.3.2 in /home/rohinsood/.local/lib/python3.10/site-packages (from librosa->-r requirements.txt (line 2)) (0.5.0.post1)\n",
      "Requirement already satisfied: typing_extensions>=4.1.1 in /home/rohinsood/.local/lib/python3.10/site-packages (from librosa->-r requirements.txt (line 2)) (4.11.0)\n",
      "Requirement already satisfied: lazy_loader>=0.1 in /home/rohinsood/.local/lib/python3.10/site-packages (from librosa->-r requirements.txt (line 2)) (0.4)\n",
      "Requirement already satisfied: msgpack>=1.0 in /home/rohinsood/.local/lib/python3.10/site-packages (from librosa->-r requirements.txt (line 2)) (1.0.8)\n",
      "Requirement already satisfied: contourpy>=1.0.1 in /home/rohinsood/.local/lib/python3.10/site-packages (from matplotlib->-r requirements.txt (line 5)) (1.2.1)\n",
      "Requirement already satisfied: cycler>=0.10 in /home/rohinsood/.local/lib/python3.10/site-packages (from matplotlib->-r requirements.txt (line 5)) (0.12.1)\n",
      "Requirement already satisfied: fonttools>=4.22.0 in /home/rohinsood/.local/lib/python3.10/site-packages (from matplotlib->-r requirements.txt (line 5)) (4.50.0)\n",
      "Requirement already satisfied: kiwisolver>=1.3.1 in /home/rohinsood/.local/lib/python3.10/site-packages (from matplotlib->-r requirements.txt (line 5)) (1.4.5)\n",
      "Requirement already satisfied: packaging>=20.0 in /home/rohinsood/.local/lib/python3.10/site-packages (from matplotlib->-r requirements.txt (line 5)) (23.1)\n",
      "Requirement already satisfied: pillow>=8 in /home/rohinsood/.local/lib/python3.10/site-packages (from matplotlib->-r requirements.txt (line 5)) (10.3.0)\n",
      "Requirement already satisfied: pyparsing>=2.3.1 in /home/rohinsood/.local/lib/python3.10/site-packages (from matplotlib->-r requirements.txt (line 5)) (3.1.2)\n",
      "Requirement already satisfied: python-dateutil>=2.7 in /home/rohinsood/.local/lib/python3.10/site-packages (from matplotlib->-r requirements.txt (line 5)) (2.8.2)\n",
      "Requirement already satisfied: threadpoolctl>=2.0.0 in /home/rohinsood/.local/lib/python3.10/site-packages (from scikit-learn->-r requirements.txt (line 6)) (3.4.0)\n",
      "Requirement already satisfied: absl-py>=1.0.0 in /home/rohinsood/.local/lib/python3.10/site-packages (from tensorflow->-r requirements.txt (line 7)) (1.4.0)\n",
      "Requirement already satisfied: astunparse>=1.6.0 in /home/rohinsood/.local/lib/python3.10/site-packages (from tensorflow->-r requirements.txt (line 7)) (1.6.3)\n",
      "Requirement already satisfied: flatbuffers>=23.5.26 in /home/rohinsood/.local/lib/python3.10/site-packages (from tensorflow->-r requirements.txt (line 7)) (24.3.25)\n",
      "Requirement already satisfied: gast!=0.5.0,!=0.5.1,!=0.5.2,>=0.2.1 in /home/rohinsood/.local/lib/python3.10/site-packages (from tensorflow->-r requirements.txt (line 7)) (0.5.4)\n",
      "Requirement already satisfied: google-pasta>=0.1.1 in /home/rohinsood/.local/lib/python3.10/site-packages (from tensorflow->-r requirements.txt (line 7)) (0.2.0)\n",
      "Requirement already satisfied: h5py>=3.10.0 in /home/rohinsood/.local/lib/python3.10/site-packages (from tensorflow->-r requirements.txt (line 7)) (3.11.0)\n",
      "Requirement already satisfied: libclang>=13.0.0 in /home/rohinsood/.local/lib/python3.10/site-packages (from tensorflow->-r requirements.txt (line 7)) (18.1.1)\n",
      "Requirement already satisfied: ml-dtypes~=0.3.1 in /home/rohinsood/.local/lib/python3.10/site-packages (from tensorflow->-r requirements.txt (line 7)) (0.3.2)\n",
      "Requirement already satisfied: opt-einsum>=2.3.2 in /home/rohinsood/.local/lib/python3.10/site-packages (from tensorflow->-r requirements.txt (line 7)) (3.3.0)\n",
      "Requirement already satisfied: protobuf!=4.21.0,!=4.21.1,!=4.21.2,!=4.21.3,!=4.21.4,!=4.21.5,<5.0.0dev,>=3.20.3 in /home/rohinsood/.local/lib/python3.10/site-packages (from tensorflow->-r requirements.txt (line 7)) (3.20.3)\n",
      "Requirement already satisfied: requests<3,>=2.21.0 in /home/rohinsood/.local/lib/python3.10/site-packages (from tensorflow->-r requirements.txt (line 7)) (2.31.0)\n",
      "Requirement already satisfied: setuptools in /usr/lib/python3/dist-packages (from tensorflow->-r requirements.txt (line 7)) (59.6.0)\n",
      "Requirement already satisfied: six>=1.12.0 in /usr/lib/python3/dist-packages (from tensorflow->-r requirements.txt (line 7)) (1.16.0)\n",
      "Requirement already satisfied: termcolor>=1.1.0 in /home/rohinsood/.local/lib/python3.10/site-packages (from tensorflow->-r requirements.txt (line 7)) (2.4.0)\n",
      "Requirement already satisfied: wrapt>=1.11.0 in /home/rohinsood/.local/lib/python3.10/site-packages (from tensorflow->-r requirements.txt (line 7)) (1.16.0)\n",
      "Requirement already satisfied: grpcio<2.0,>=1.24.3 in /home/rohinsood/.local/lib/python3.10/site-packages (from tensorflow->-r requirements.txt (line 7)) (1.62.2)\n",
      "Requirement already satisfied: tensorboard<2.17,>=2.16 in /home/rohinsood/.local/lib/python3.10/site-packages (from tensorflow->-r requirements.txt (line 7)) (2.16.2)\n",
      "Requirement already satisfied: keras>=3.0.0 in /home/rohinsood/.local/lib/python3.10/site-packages (from tensorflow->-r requirements.txt (line 7)) (3.2.1)\n",
      "Requirement already satisfied: tensorflow-io-gcs-filesystem>=0.23.1 in /home/rohinsood/.local/lib/python3.10/site-packages (from tensorflow->-r requirements.txt (line 7)) (0.36.0)\n",
      "Requirement already satisfied: filelock in /home/rohinsood/.local/lib/python3.10/site-packages (from torch->-r requirements.txt (line 8)) (3.15.4)\n",
      "Requirement already satisfied: networkx in /home/rohinsood/.local/lib/python3.10/site-packages (from torch->-r requirements.txt (line 8)) (3.3)\n",
      "Requirement already satisfied: jinja2 in /home/rohinsood/.local/lib/python3.10/site-packages (from torch->-r requirements.txt (line 8)) (3.1.4)\n",
      "Requirement already satisfied: fsspec in /home/rohinsood/.local/lib/python3.10/site-packages (from torch->-r requirements.txt (line 8)) (2024.3.1)\n",
      "Requirement already satisfied: nvidia-cuda-nvrtc-cu12==12.4.127 in /home/rohinsood/.local/lib/python3.10/site-packages (from torch->-r requirements.txt (line 8)) (12.4.127)\n",
      "Requirement already satisfied: nvidia-cuda-runtime-cu12==12.4.127 in /home/rohinsood/.local/lib/python3.10/site-packages (from torch->-r requirements.txt (line 8)) (12.4.127)\n",
      "Requirement already satisfied: nvidia-cuda-cupti-cu12==12.4.127 in /home/rohinsood/.local/lib/python3.10/site-packages (from torch->-r requirements.txt (line 8)) (12.4.127)\n",
      "Requirement already satisfied: nvidia-cudnn-cu12==9.1.0.70 in /home/rohinsood/.local/lib/python3.10/site-packages (from torch->-r requirements.txt (line 8)) (9.1.0.70)\n",
      "Requirement already satisfied: nvidia-cublas-cu12==12.4.5.8 in /home/rohinsood/.local/lib/python3.10/site-packages (from torch->-r requirements.txt (line 8)) (12.4.5.8)\n",
      "Requirement already satisfied: nvidia-cufft-cu12==11.2.1.3 in /home/rohinsood/.local/lib/python3.10/site-packages (from torch->-r requirements.txt (line 8)) (11.2.1.3)\n",
      "Requirement already satisfied: nvidia-curand-cu12==10.3.5.147 in /home/rohinsood/.local/lib/python3.10/site-packages (from torch->-r requirements.txt (line 8)) (10.3.5.147)\n",
      "Requirement already satisfied: nvidia-cusolver-cu12==11.6.1.9 in /home/rohinsood/.local/lib/python3.10/site-packages (from torch->-r requirements.txt (line 8)) (11.6.1.9)\n",
      "Requirement already satisfied: nvidia-cusparse-cu12==12.3.1.170 in /home/rohinsood/.local/lib/python3.10/site-packages (from torch->-r requirements.txt (line 8)) (12.3.1.170)\n",
      "Requirement already satisfied: nvidia-cusparselt-cu12==0.6.2 in /home/rohinsood/.local/lib/python3.10/site-packages (from torch->-r requirements.txt (line 8)) (0.6.2)\n",
      "Requirement already satisfied: nvidia-nccl-cu12==2.21.5 in /home/rohinsood/.local/lib/python3.10/site-packages (from torch->-r requirements.txt (line 8)) (2.21.5)\n",
      "Requirement already satisfied: nvidia-nvtx-cu12==12.4.127 in /home/rohinsood/.local/lib/python3.10/site-packages (from torch->-r requirements.txt (line 8)) (12.4.127)\n",
      "Requirement already satisfied: nvidia-nvjitlink-cu12==12.4.127 in /home/rohinsood/.local/lib/python3.10/site-packages (from torch->-r requirements.txt (line 8)) (12.4.127)\n",
      "Requirement already satisfied: triton==3.2.0 in /home/rohinsood/.local/lib/python3.10/site-packages (from torch->-r requirements.txt (line 8)) (3.2.0)\n",
      "Requirement already satisfied: sympy==1.13.1 in /home/rohinsood/.local/lib/python3.10/site-packages (from torch->-r requirements.txt (line 8)) (1.13.1)\n",
      "Requirement already satisfied: mpmath<1.4,>=1.1.0 in /home/rohinsood/.local/lib/python3.10/site-packages (from sympy==1.13.1->torch->-r requirements.txt (line 8)) (1.3.0)\n",
      "Requirement already satisfied: wheel<1.0,>=0.23.0 in /usr/lib/python3/dist-packages (from astunparse>=1.6.0->tensorflow->-r requirements.txt (line 7)) (0.37.1)\n",
      "Requirement already satisfied: pycparser in /home/rohinsood/.local/lib/python3.10/site-packages (from CFFI>=1.0->sounddevice->-r requirements.txt (line 1)) (2.21)\n",
      "Requirement already satisfied: rich in /home/rohinsood/.local/lib/python3.10/site-packages (from keras>=3.0.0->tensorflow->-r requirements.txt (line 7)) (13.7.1)\n",
      "Requirement already satisfied: namex in /home/rohinsood/.local/lib/python3.10/site-packages (from keras>=3.0.0->tensorflow->-r requirements.txt (line 7)) (0.0.8)\n",
      "Requirement already satisfied: optree in /home/rohinsood/.local/lib/python3.10/site-packages (from keras>=3.0.0->tensorflow->-r requirements.txt (line 7)) (0.11.0)\n",
      "Requirement already satisfied: llvmlite<0.44,>=0.43.0dev0 in /home/rohinsood/.local/lib/python3.10/site-packages (from numba>=0.51.0->librosa->-r requirements.txt (line 2)) (0.43.0)\n",
      "Requirement already satisfied: platformdirs>=2.5.0 in /home/rohinsood/.local/lib/python3.10/site-packages (from pooch>=1.1->librosa->-r requirements.txt (line 2)) (3.10.0)\n",
      "Requirement already satisfied: charset-normalizer<4,>=2 in /home/rohinsood/.local/lib/python3.10/site-packages (from requests<3,>=2.21.0->tensorflow->-r requirements.txt (line 7)) (3.2.0)\n",
      "Requirement already satisfied: idna<4,>=2.5 in /home/rohinsood/.local/lib/python3.10/site-packages (from requests<3,>=2.21.0->tensorflow->-r requirements.txt (line 7)) (3.4)\n",
      "Requirement already satisfied: urllib3<3,>=1.21.1 in /home/rohinsood/.local/lib/python3.10/site-packages (from requests<3,>=2.21.0->tensorflow->-r requirements.txt (line 7)) (2.0.4)\n",
      "Requirement already satisfied: certifi>=2017.4.17 in /home/rohinsood/.local/lib/python3.10/site-packages (from requests<3,>=2.21.0->tensorflow->-r requirements.txt (line 7)) (2023.7.22)\n",
      "Requirement already satisfied: markdown>=2.6.8 in /home/rohinsood/.local/lib/python3.10/site-packages (from tensorboard<2.17,>=2.16->tensorflow->-r requirements.txt (line 7)) (3.6)\n",
      "Requirement already satisfied: tensorboard-data-server<0.8.0,>=0.7.0 in /home/rohinsood/.local/lib/python3.10/site-packages (from tensorboard<2.17,>=2.16->tensorflow->-r requirements.txt (line 7)) (0.7.2)\n",
      "Requirement already satisfied: werkzeug>=1.0.1 in /home/rohinsood/.local/lib/python3.10/site-packages (from tensorboard<2.17,>=2.16->tensorflow->-r requirements.txt (line 7)) (3.0.2)\n",
      "Requirement already satisfied: MarkupSafe>=2.0 in /home/rohinsood/.local/lib/python3.10/site-packages (from jinja2->torch->-r requirements.txt (line 8)) (2.1.5)\n",
      "Requirement already satisfied: markdown-it-py>=2.2.0 in /home/rohinsood/.local/lib/python3.10/site-packages (from rich->keras>=3.0.0->tensorflow->-r requirements.txt (line 7)) (3.0.0)\n",
      "Requirement already satisfied: pygments<3.0.0,>=2.13.0 in /home/rohinsood/.local/lib/python3.10/site-packages (from rich->keras>=3.0.0->tensorflow->-r requirements.txt (line 7)) (2.16.1)\n",
      "Requirement already satisfied: mdurl~=0.1 in /home/rohinsood/.local/lib/python3.10/site-packages (from markdown-it-py>=2.2.0->rich->keras>=3.0.0->tensorflow->-r requirements.txt (line 7)) (0.1.2)\n",
      "\u001b[33mWARNING: Ignoring invalid distribution -umpy (/home/rohinsood/.local/lib/python3.10/site-packages)\u001b[0m\u001b[33m\n",
      "\u001b[0m\u001b[33mWARNING: Ignoring invalid distribution -umpy (/home/rohinsood/.local/lib/python3.10/site-packages)\u001b[0m\u001b[33m\n",
      "\u001b[0m"
     ]
    }
   ],
   "source": [
    "!pip install -r requirements.txt"
   ]
  },
  {
   "cell_type": "code",
   "execution_count": 5,
   "metadata": {},
   "outputs": [
    {
     "name": "stdout",
     "output_type": "stream",
     "text": [
      "\n"
     ]
    }
   ],
   "source": [
    "import sounddevice as sd\n",
    "\n",
    "# List all audio devices\n",
    "print(sd.query_devices())\n"
   ]
  },
  {
   "cell_type": "code",
   "execution_count": 2,
   "metadata": {},
   "outputs": [
    {
     "ename": "OSError",
     "evalue": "PortAudio library not found",
     "output_type": "error",
     "traceback": [
      "\u001b[0;31m---------------------------------------------------------------------------\u001b[0m",
      "\u001b[0;31mOSError\u001b[0m                                   Traceback (most recent call last)",
      "Cell \u001b[0;32mIn[2], line 1\u001b[0m\n\u001b[0;32m----> 1\u001b[0m \u001b[39mimport\u001b[39;00m \u001b[39msounddevice\u001b[39;00m \u001b[39mas\u001b[39;00m \u001b[39msd\u001b[39;00m\n\u001b[1;32m      2\u001b[0m \u001b[39mimport\u001b[39;00m \u001b[39mlibrosa\u001b[39;00m\n\u001b[1;32m      3\u001b[0m \u001b[39mimport\u001b[39;00m \u001b[39mnumpy\u001b[39;00m \u001b[39mas\u001b[39;00m \u001b[39mnp\u001b[39;00m\n",
      "File \u001b[0;32m~/.local/lib/python3.10/site-packages/sounddevice.py:71\u001b[0m\n\u001b[1;32m     69\u001b[0m             \u001b[39mbreak\u001b[39;00m\n\u001b[1;32m     70\u001b[0m     \u001b[39melse\u001b[39;00m:\n\u001b[0;32m---> 71\u001b[0m         \u001b[39mraise\u001b[39;00m \u001b[39mOSError\u001b[39;00m(\u001b[39m'\u001b[39m\u001b[39mPortAudio library not found\u001b[39m\u001b[39m'\u001b[39m)\n\u001b[1;32m     72\u001b[0m     _lib \u001b[39m=\u001b[39m _ffi\u001b[39m.\u001b[39mdlopen(_libname)\n\u001b[1;32m     73\u001b[0m \u001b[39mexcept\u001b[39;00m \u001b[39mOSError\u001b[39;00m:\n",
      "\u001b[0;31mOSError\u001b[0m: PortAudio library not found"
     ]
    }
   ],
   "source": [
    "import sounddevice as sd\n",
    "import librosa\n",
    "import numpy as np\n",
    "import joblib\n",
    "\n",
    "# Load the trained model\n",
    "rf_model = joblib.load(\"random_forest_slap_classifier.pkl\")\n",
    "\n",
    "# Audio settings\n",
    "SAMPLE_RATE = 44100  # Standard audio sample rate\n",
    "FRAME_SIZE = 2048  # Window size for feature extraction\n",
    "HOP_SIZE = 512  # Hop length for overlapping windows\n",
    "\n",
    "def extract_mfcc(audio_segment, sr):\n",
    "    \"\"\"Extract MFCCs from an audio segment.\"\"\"\n",
    "    mfcc = librosa.feature.mfcc(y=audio_segment, sr=sr, n_mfcc=13)\n",
    "    return np.mean(mfcc, axis=1)  # Take mean across time\n",
    "\n",
    "def predict_slapping(audio_segment):\n",
    "    \"\"\"Predict whether the segment contains a slap or pop.\"\"\"\n",
    "    mfcc_features = extract_mfcc(audio_segment, SAMPLE_RATE)\n",
    "    mfcc_features = mfcc_features.reshape(1, -1)  # Reshape for prediction\n",
    "    predicted_label = rf_model.predict(mfcc_features)[0]\n",
    "    return predicted_label\n",
    "\n",
    "def callback(indata, frames, time, status):\n",
    "    \"\"\"Callback function that runs every audio buffer.\"\"\"\n",
    "    if status:\n",
    "        print(status)\n",
    "    \n",
    "    # Convert audio to mono if it's stereo\n",
    "    audio_segment = indata[:, 0] if indata.ndim > 1 else indata\n",
    "\n",
    "    # Predict slap technique\n",
    "    technique = predict_slapping(audio_segment)\n",
    "    \n",
    "    # Print detected technique\n",
    "    print(f\"🎸 Detected Slap Technique: {technique}\")\n",
    "\n",
    "# Start streaming audio from the microphone\n",
    "print(\"🎧 Listening for slap bass... (Press Ctrl+C to stop)\")\n",
    "with sd.InputStream(callback=callback, channels=1, samplerate=SAMPLE_RATE, blocksize=FRAME_SIZE):\n",
    "    while True:\n",
    "        pass  # Keep running\n"
   ]
  }
 ],
 "metadata": {
  "kernelspec": {
   "display_name": "Python 3",
   "language": "python",
   "name": "python3"
  },
  "language_info": {
   "codemirror_mode": {
    "name": "ipython",
    "version": 3
   },
   "file_extension": ".py",
   "mimetype": "text/x-python",
   "name": "python",
   "nbconvert_exporter": "python",
   "pygments_lexer": "ipython3",
   "version": "3.10.12 (main, Feb  4 2025, 14:57:36) [GCC 11.4.0]"
  },
  "orig_nbformat": 4,
  "vscode": {
   "interpreter": {
    "hash": "e7370f93d1d0cde622a1f8e1c04877d8463912d04d973331ad4851f04de6915a"
   }
  }
 },
 "nbformat": 4,
 "nbformat_minor": 2
}
